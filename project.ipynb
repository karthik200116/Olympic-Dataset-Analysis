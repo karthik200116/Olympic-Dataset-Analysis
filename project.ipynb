{
 "cells": [
  {
   "cell_type": "markdown",
   "metadata": {},
   "source": [
    "Olympic History: Athletes and Results\n",
    "Source: Kaggle, https://www.kaggle.com/heesoo37/120-years-of-olympic-history-athletes-and-results \n",
    "Rows: 136893, Columns:14\n",
    "This is an Olympic dataset that consists information of athletes and results from the year 1988 to 2016. The dataset has name of athletes, country they belong to, their height, weight and age and the medal they won. It consists the results of both summer and winter Olympics. With the information about each and every event in Olympics. There is close to 3% of null values in the Olympic dataset. The medal column describes which medal was won, and is ‘none’ if no medal is won. As there were null values in the height column, they have been replaced with the average height of particular sport of a given country. Similar process is followed for weight and age."
   ]
  },
  {
   "cell_type": "code",
   "execution_count": 1,
   "metadata": {},
   "outputs": [],
   "source": [
    "import pandas as pd\n",
    "import numpy as np\n",
    "import matplotlib.pyplot as plt\n",
    "import scipy.stats as st"
   ]
  },
  {
   "cell_type": "code",
   "execution_count": 2,
   "metadata": {},
   "outputs": [],
   "source": [
    "df = pd.read_excel(\"./csvs/olympics_dataset.xlsx\")"
   ]
  },
  {
   "cell_type": "code",
   "execution_count": 129,
   "metadata": {},
   "outputs": [],
   "source": [
    "df.drop_duplicates(inplace=True) #removing duplicate rows (actually there's no duplicate rows in this dataset)"
   ]
  },
  {
   "cell_type": "code",
   "execution_count": 130,
   "metadata": {},
   "outputs": [
    {
     "data": {
      "text/html": [
       "<div>\n",
       "<style scoped>\n",
       "    .dataframe tbody tr th:only-of-type {\n",
       "        vertical-align: middle;\n",
       "    }\n",
       "\n",
       "    .dataframe tbody tr th {\n",
       "        vertical-align: top;\n",
       "    }\n",
       "\n",
       "    .dataframe thead th {\n",
       "        text-align: right;\n",
       "    }\n",
       "</style>\n",
       "<table border=\"1\" class=\"dataframe\">\n",
       "  <thead>\n",
       "    <tr style=\"text-align: right;\">\n",
       "      <th></th>\n",
       "      <th>ID</th>\n",
       "      <th>Sex</th>\n",
       "      <th>Age</th>\n",
       "      <th>Height</th>\n",
       "      <th>Weight</th>\n",
       "      <th>Team</th>\n",
       "      <th>NOC</th>\n",
       "      <th>Games</th>\n",
       "      <th>Year</th>\n",
       "      <th>Season</th>\n",
       "      <th>City</th>\n",
       "      <th>Sport</th>\n",
       "      <th>Event</th>\n",
       "      <th>Medal</th>\n",
       "    </tr>\n",
       "  </thead>\n",
       "  <tbody>\n",
       "    <tr>\n",
       "      <th>0</th>\n",
       "      <td>5</td>\n",
       "      <td>F</td>\n",
       "      <td>21.0</td>\n",
       "      <td>185.0</td>\n",
       "      <td>82.0</td>\n",
       "      <td>Netherlands</td>\n",
       "      <td>NED</td>\n",
       "      <td>1988 Winter</td>\n",
       "      <td>1988</td>\n",
       "      <td>Winter</td>\n",
       "      <td>Calgary</td>\n",
       "      <td>Speed Skating</td>\n",
       "      <td>Speed Skating Women's 500 metres</td>\n",
       "      <td>none</td>\n",
       "    </tr>\n",
       "    <tr>\n",
       "      <th>1</th>\n",
       "      <td>5</td>\n",
       "      <td>F</td>\n",
       "      <td>21.0</td>\n",
       "      <td>185.0</td>\n",
       "      <td>82.0</td>\n",
       "      <td>Netherlands</td>\n",
       "      <td>NED</td>\n",
       "      <td>1988 Winter</td>\n",
       "      <td>1988</td>\n",
       "      <td>Winter</td>\n",
       "      <td>Calgary</td>\n",
       "      <td>Speed Skating</td>\n",
       "      <td>Speed Skating Women's 1,000 metres</td>\n",
       "      <td>none</td>\n",
       "    </tr>\n",
       "    <tr>\n",
       "      <th>2</th>\n",
       "      <td>29</td>\n",
       "      <td>F</td>\n",
       "      <td>22.0</td>\n",
       "      <td>NaN</td>\n",
       "      <td>NaN</td>\n",
       "      <td>Netherlands</td>\n",
       "      <td>NED</td>\n",
       "      <td>1988 Summer</td>\n",
       "      <td>1988</td>\n",
       "      <td>Summer</td>\n",
       "      <td>Seoul</td>\n",
       "      <td>Hockey</td>\n",
       "      <td>Hockey Women's Hockey</td>\n",
       "      <td>Bronze</td>\n",
       "    </tr>\n",
       "    <tr>\n",
       "      <th>3</th>\n",
       "      <td>57</td>\n",
       "      <td>M</td>\n",
       "      <td>24.0</td>\n",
       "      <td>176.0</td>\n",
       "      <td>66.0</td>\n",
       "      <td>Bulgaria</td>\n",
       "      <td>BUL</td>\n",
       "      <td>1988 Summer</td>\n",
       "      <td>1988</td>\n",
       "      <td>Summer</td>\n",
       "      <td>Seoul</td>\n",
       "      <td>Boxing</td>\n",
       "      <td>Boxing Men's Light-Welterweight</td>\n",
       "      <td>none</td>\n",
       "    </tr>\n",
       "    <tr>\n",
       "      <th>4</th>\n",
       "      <td>106</td>\n",
       "      <td>M</td>\n",
       "      <td>22.0</td>\n",
       "      <td>188.0</td>\n",
       "      <td>96.0</td>\n",
       "      <td>Italy</td>\n",
       "      <td>ITA</td>\n",
       "      <td>1988 Summer</td>\n",
       "      <td>1988</td>\n",
       "      <td>Summer</td>\n",
       "      <td>Seoul</td>\n",
       "      <td>Rowing</td>\n",
       "      <td>Rowing Men's Quadruple Sculls</td>\n",
       "      <td>Gold</td>\n",
       "    </tr>\n",
       "  </tbody>\n",
       "</table>\n",
       "</div>"
      ],
      "text/plain": [
       "    ID Sex   Age  Height  Weight         Team  NOC        Games  Year  Season  \\\n",
       "0    5   F  21.0   185.0    82.0  Netherlands  NED  1988 Winter  1988  Winter   \n",
       "1    5   F  21.0   185.0    82.0  Netherlands  NED  1988 Winter  1988  Winter   \n",
       "2   29   F  22.0     NaN     NaN  Netherlands  NED  1988 Summer  1988  Summer   \n",
       "3   57   M  24.0   176.0    66.0     Bulgaria  BUL  1988 Summer  1988  Summer   \n",
       "4  106   M  22.0   188.0    96.0        Italy  ITA  1988 Summer  1988  Summer   \n",
       "\n",
       "      City          Sport                               Event   Medal  \n",
       "0  Calgary  Speed Skating    Speed Skating Women's 500 metres    none  \n",
       "1  Calgary  Speed Skating  Speed Skating Women's 1,000 metres    none  \n",
       "2    Seoul         Hockey               Hockey Women's Hockey  Bronze  \n",
       "3    Seoul         Boxing     Boxing Men's Light-Welterweight    none  \n",
       "4    Seoul         Rowing       Rowing Men's Quadruple Sculls    Gold  "
      ]
     },
     "execution_count": 130,
     "metadata": {},
     "output_type": "execute_result"
    }
   ],
   "source": [
    "df.head()"
   ]
  },
  {
   "cell_type": "code",
   "execution_count": 4,
   "metadata": {},
   "outputs": [
    {
     "data": {
      "text/plain": [
       "14521"
      ]
     },
     "execution_count": 4,
     "metadata": {},
     "output_type": "execute_result"
    }
   ],
   "source": [
    "#total actual null values\n",
    "df.isnull().sum().sum() - df.isnull().sum()['Medal'] #null values ignoring medals"
   ]
  },
  {
   "cell_type": "code",
   "execution_count": 5,
   "metadata": {},
   "outputs": [
    {
     "data": {
      "text/html": [
       "<div>\n",
       "<style scoped>\n",
       "    .dataframe tbody tr th:only-of-type {\n",
       "        vertical-align: middle;\n",
       "    }\n",
       "\n",
       "    .dataframe tbody tr th {\n",
       "        vertical-align: top;\n",
       "    }\n",
       "\n",
       "    .dataframe thead th {\n",
       "        text-align: right;\n",
       "    }\n",
       "</style>\n",
       "<table border=\"1\" class=\"dataframe\">\n",
       "  <thead>\n",
       "    <tr style=\"text-align: right;\">\n",
       "      <th></th>\n",
       "      <th>ID</th>\n",
       "      <th>Age</th>\n",
       "      <th>Height</th>\n",
       "      <th>Weight</th>\n",
       "      <th>Year</th>\n",
       "    </tr>\n",
       "  </thead>\n",
       "  <tbody>\n",
       "    <tr>\n",
       "      <th>count</th>\n",
       "      <td>136892.000000</td>\n",
       "      <td>136723.000000</td>\n",
       "      <td>129931.000000</td>\n",
       "      <td>129501.000000</td>\n",
       "      <td>136892.000000</td>\n",
       "    </tr>\n",
       "    <tr>\n",
       "      <th>mean</th>\n",
       "      <td>68779.118962</td>\n",
       "      <td>25.322960</td>\n",
       "      <td>175.813516</td>\n",
       "      <td>71.035751</td>\n",
       "      <td>2002.154501</td>\n",
       "    </tr>\n",
       "    <tr>\n",
       "      <th>std</th>\n",
       "      <td>39143.215332</td>\n",
       "      <td>5.392279</td>\n",
       "      <td>10.894620</td>\n",
       "      <td>15.075233</td>\n",
       "      <td>8.923408</td>\n",
       "    </tr>\n",
       "    <tr>\n",
       "      <th>min</th>\n",
       "      <td>1.000000</td>\n",
       "      <td>11.000000</td>\n",
       "      <td>127.000000</td>\n",
       "      <td>28.000000</td>\n",
       "      <td>1988.000000</td>\n",
       "    </tr>\n",
       "    <tr>\n",
       "      <th>25%</th>\n",
       "      <td>35269.000000</td>\n",
       "      <td>22.000000</td>\n",
       "      <td>168.000000</td>\n",
       "      <td>60.000000</td>\n",
       "      <td>1994.000000</td>\n",
       "    </tr>\n",
       "    <tr>\n",
       "      <th>50%</th>\n",
       "      <td>68960.500000</td>\n",
       "      <td>25.000000</td>\n",
       "      <td>176.000000</td>\n",
       "      <td>70.000000</td>\n",
       "      <td>2002.000000</td>\n",
       "    </tr>\n",
       "    <tr>\n",
       "      <th>75%</th>\n",
       "      <td>102511.000000</td>\n",
       "      <td>28.000000</td>\n",
       "      <td>183.000000</td>\n",
       "      <td>80.000000</td>\n",
       "      <td>2010.000000</td>\n",
       "    </tr>\n",
       "    <tr>\n",
       "      <th>max</th>\n",
       "      <td>135571.000000</td>\n",
       "      <td>71.000000</td>\n",
       "      <td>226.000000</td>\n",
       "      <td>214.000000</td>\n",
       "      <td>2016.000000</td>\n",
       "    </tr>\n",
       "  </tbody>\n",
       "</table>\n",
       "</div>"
      ],
      "text/plain": [
       "                  ID            Age         Height         Weight  \\\n",
       "count  136892.000000  136723.000000  129931.000000  129501.000000   \n",
       "mean    68779.118962      25.322960     175.813516      71.035751   \n",
       "std     39143.215332       5.392279      10.894620      15.075233   \n",
       "min         1.000000      11.000000     127.000000      28.000000   \n",
       "25%     35269.000000      22.000000     168.000000      60.000000   \n",
       "50%     68960.500000      25.000000     176.000000      70.000000   \n",
       "75%    102511.000000      28.000000     183.000000      80.000000   \n",
       "max    135571.000000      71.000000     226.000000     214.000000   \n",
       "\n",
       "                Year  \n",
       "count  136892.000000  \n",
       "mean     2002.154501  \n",
       "std         8.923408  \n",
       "min      1988.000000  \n",
       "25%      1994.000000  \n",
       "50%      2002.000000  \n",
       "75%      2010.000000  \n",
       "max      2016.000000  "
      ]
     },
     "execution_count": 5,
     "metadata": {},
     "output_type": "execute_result"
    }
   ],
   "source": [
    "df.describe()"
   ]
  },
  {
   "cell_type": "code",
   "execution_count": 6,
   "metadata": {},
   "outputs": [
    {
     "data": {
      "text/plain": [
       "ID             0\n",
       "Sex            0\n",
       "Age          169\n",
       "Height      6961\n",
       "Weight      7391\n",
       "Team           0\n",
       "NOC            0\n",
       "Games          0\n",
       "Year           0\n",
       "Season         0\n",
       "City           0\n",
       "Sport          0\n",
       "Event          0\n",
       "Medal     118266\n",
       "dtype: int64"
      ]
     },
     "execution_count": 6,
     "metadata": {},
     "output_type": "execute_result"
    }
   ],
   "source": [
    "#null values in dataset in each columns\n",
    "df.isnull().sum()"
   ]
  },
  {
   "cell_type": "markdown",
   "metadata": {},
   "source": [
    "Data Cleaning"
   ]
  },
  {
   "cell_type": "code",
   "execution_count": 7,
   "metadata": {},
   "outputs": [],
   "source": [
    "#filling 'none' in place of null in medals, indicating that player has won no medal\n",
    "df['Medal'].fillna('none', inplace=True)"
   ]
  },
  {
   "cell_type": "code",
   "execution_count": 8,
   "metadata": {},
   "outputs": [
    {
     "data": {
      "text/plain": [
       "ID           0\n",
       "Sex          0\n",
       "Age        169\n",
       "Height    6961\n",
       "Weight    7391\n",
       "Team         0\n",
       "NOC          0\n",
       "Games        0\n",
       "Year         0\n",
       "Season       0\n",
       "City         0\n",
       "Sport        0\n",
       "Event        0\n",
       "Medal        0\n",
       "dtype: int64"
      ]
     },
     "execution_count": 8,
     "metadata": {},
     "output_type": "execute_result"
    }
   ],
   "source": [
    "#null values after filling the null values that were in medal\n",
    "df.isnull().sum()"
   ]
  },
  {
   "cell_type": "code",
   "execution_count": 9,
   "metadata": {},
   "outputs": [
    {
     "data": {
      "text/html": [
       "<div>\n",
       "<style scoped>\n",
       "    .dataframe tbody tr th:only-of-type {\n",
       "        vertical-align: middle;\n",
       "    }\n",
       "\n",
       "    .dataframe tbody tr th {\n",
       "        vertical-align: top;\n",
       "    }\n",
       "\n",
       "    .dataframe thead th {\n",
       "        text-align: right;\n",
       "    }\n",
       "</style>\n",
       "<table border=\"1\" class=\"dataframe\">\n",
       "  <thead>\n",
       "    <tr style=\"text-align: right;\">\n",
       "      <th></th>\n",
       "      <th>ID</th>\n",
       "      <th>Sex</th>\n",
       "      <th>Age</th>\n",
       "      <th>Height</th>\n",
       "      <th>Weight</th>\n",
       "      <th>Team</th>\n",
       "      <th>NOC</th>\n",
       "      <th>Games</th>\n",
       "      <th>Year</th>\n",
       "      <th>Season</th>\n",
       "      <th>City</th>\n",
       "      <th>Sport</th>\n",
       "      <th>Event</th>\n",
       "      <th>Medal</th>\n",
       "    </tr>\n",
       "  </thead>\n",
       "  <tbody>\n",
       "    <tr>\n",
       "      <th>0</th>\n",
       "      <td>5</td>\n",
       "      <td>F</td>\n",
       "      <td>21.0</td>\n",
       "      <td>185.0</td>\n",
       "      <td>82.0</td>\n",
       "      <td>Netherlands</td>\n",
       "      <td>NED</td>\n",
       "      <td>1988 Winter</td>\n",
       "      <td>1988</td>\n",
       "      <td>Winter</td>\n",
       "      <td>Calgary</td>\n",
       "      <td>Speed Skating</td>\n",
       "      <td>Speed Skating Women's 500 metres</td>\n",
       "      <td>none</td>\n",
       "    </tr>\n",
       "    <tr>\n",
       "      <th>1</th>\n",
       "      <td>5</td>\n",
       "      <td>F</td>\n",
       "      <td>21.0</td>\n",
       "      <td>185.0</td>\n",
       "      <td>82.0</td>\n",
       "      <td>Netherlands</td>\n",
       "      <td>NED</td>\n",
       "      <td>1988 Winter</td>\n",
       "      <td>1988</td>\n",
       "      <td>Winter</td>\n",
       "      <td>Calgary</td>\n",
       "      <td>Speed Skating</td>\n",
       "      <td>Speed Skating Women's 1,000 metres</td>\n",
       "      <td>none</td>\n",
       "    </tr>\n",
       "    <tr>\n",
       "      <th>2</th>\n",
       "      <td>29</td>\n",
       "      <td>F</td>\n",
       "      <td>22.0</td>\n",
       "      <td>NaN</td>\n",
       "      <td>NaN</td>\n",
       "      <td>Netherlands</td>\n",
       "      <td>NED</td>\n",
       "      <td>1988 Summer</td>\n",
       "      <td>1988</td>\n",
       "      <td>Summer</td>\n",
       "      <td>Seoul</td>\n",
       "      <td>Hockey</td>\n",
       "      <td>Hockey Women's Hockey</td>\n",
       "      <td>Bronze</td>\n",
       "    </tr>\n",
       "    <tr>\n",
       "      <th>3</th>\n",
       "      <td>57</td>\n",
       "      <td>M</td>\n",
       "      <td>24.0</td>\n",
       "      <td>176.0</td>\n",
       "      <td>66.0</td>\n",
       "      <td>Bulgaria</td>\n",
       "      <td>BUL</td>\n",
       "      <td>1988 Summer</td>\n",
       "      <td>1988</td>\n",
       "      <td>Summer</td>\n",
       "      <td>Seoul</td>\n",
       "      <td>Boxing</td>\n",
       "      <td>Boxing Men's Light-Welterweight</td>\n",
       "      <td>none</td>\n",
       "    </tr>\n",
       "    <tr>\n",
       "      <th>4</th>\n",
       "      <td>106</td>\n",
       "      <td>M</td>\n",
       "      <td>22.0</td>\n",
       "      <td>188.0</td>\n",
       "      <td>96.0</td>\n",
       "      <td>Italy</td>\n",
       "      <td>ITA</td>\n",
       "      <td>1988 Summer</td>\n",
       "      <td>1988</td>\n",
       "      <td>Summer</td>\n",
       "      <td>Seoul</td>\n",
       "      <td>Rowing</td>\n",
       "      <td>Rowing Men's Quadruple Sculls</td>\n",
       "      <td>Gold</td>\n",
       "    </tr>\n",
       "  </tbody>\n",
       "</table>\n",
       "</div>"
      ],
      "text/plain": [
       "    ID Sex   Age  Height  Weight         Team  NOC        Games  Year  Season  \\\n",
       "0    5   F  21.0   185.0    82.0  Netherlands  NED  1988 Winter  1988  Winter   \n",
       "1    5   F  21.0   185.0    82.0  Netherlands  NED  1988 Winter  1988  Winter   \n",
       "2   29   F  22.0     NaN     NaN  Netherlands  NED  1988 Summer  1988  Summer   \n",
       "3   57   M  24.0   176.0    66.0     Bulgaria  BUL  1988 Summer  1988  Summer   \n",
       "4  106   M  22.0   188.0    96.0        Italy  ITA  1988 Summer  1988  Summer   \n",
       "\n",
       "      City          Sport                               Event   Medal  \n",
       "0  Calgary  Speed Skating    Speed Skating Women's 500 metres    none  \n",
       "1  Calgary  Speed Skating  Speed Skating Women's 1,000 metres    none  \n",
       "2    Seoul         Hockey               Hockey Women's Hockey  Bronze  \n",
       "3    Seoul         Boxing     Boxing Men's Light-Welterweight    none  \n",
       "4    Seoul         Rowing       Rowing Men's Quadruple Sculls    Gold  "
      ]
     },
     "execution_count": 9,
     "metadata": {},
     "output_type": "execute_result"
    }
   ],
   "source": [
    "df.head()"
   ]
  },
  {
   "cell_type": "code",
   "execution_count": 88,
   "metadata": {},
   "outputs": [],
   "source": [
    "#list of countries and sports\n",
    "country_list = list(set(df.NOC))\n",
    "sport_list = list(set(df.Sport))"
   ]
  },
  {
   "cell_type": "code",
   "execution_count": 89,
   "metadata": {},
   "outputs": [],
   "source": [
    "#copying the dataframe for safety\n",
    "copydf = df.copy()"
   ]
  },
  {
   "cell_type": "code",
   "execution_count": 92,
   "metadata": {},
   "outputs": [],
   "source": [
    "#handling the null values in Age, Height and Weight column\n",
    "#idea is to fill the average(mean) of particular country and sport for the missing value of same category\n",
    "for country in country_list:\n",
    "    for sport in sport_list:\n",
    "        copydf.loc[copydf.Height.isnull() & (copydf.NOC == country) & (copydf.Sport == sport), 'Height'] = copydf.loc[(copydf.NOC == country) & (copydf.Sport == sport), 'Height'].mean()\n",
    "        copydf.loc[copydf.Age.isnull() & (copydf.NOC == country) & (copydf.Sport == sport), 'Age'] = copydf.loc[(copydf.NOC == country) & (copydf.Sport == sport), 'Age'].mean()\n",
    "        copydf.loc[copydf.Weight.isnull() & (copydf.NOC == country) & (copydf.Sport == sport), 'Weight'] = copydf.loc[(copydf.NOC == country) & (copydf.Sport == sport), 'Weight'].mean() "
   ]
  },
  {
   "cell_type": "code",
   "execution_count": 97,
   "metadata": {},
   "outputs": [
    {
     "data": {
      "text/plain": [
       "ID          0\n",
       "Sex         0\n",
       "Age        10\n",
       "Height    425\n",
       "Weight    410\n",
       "Team        0\n",
       "NOC         0\n",
       "Games       0\n",
       "Year        0\n",
       "Season      0\n",
       "City        0\n",
       "Sport       0\n",
       "Event       0\n",
       "Medal       0\n",
       "dtype: int64"
      ]
     },
     "execution_count": 97,
     "metadata": {},
     "output_type": "execute_result"
    }
   ],
   "source": [
    "#after filling the null values\n",
    "#few null values still exists beacuse of no non-null values that are existed to calculate mean\n",
    "copydf.isnull().sum()"
   ]
  },
  {
   "cell_type": "code",
   "execution_count": 132,
   "metadata": {},
   "outputs": [],
   "source": [
    "#2nd step of filling null values\n",
    "#only country average is filled for particular missing value\n",
    "for country in country_list:\n",
    "    copydf.loc[copydf.Age.isnull() & (copydf.NOC == country), 'Age'] = copydf.loc[copydf.NOC == country, 'Age'].mean()\n",
    "    copydf.loc[copydf.Height.isnull() & (copydf.NOC == country), 'Height'] = copydf.loc[copydf.NOC == country, 'Height'].mean()\n",
    "    copydf.loc[copydf.Weight.isnull() & (copydf.NOC == country), 'Weight'] = copydf.loc[copydf.NOC == country, 'Weight'].mean()"
   ]
  },
  {
   "cell_type": "code",
   "execution_count": 133,
   "metadata": {},
   "outputs": [
    {
     "data": {
      "text/plain": [
       "ID        0\n",
       "Sex       0\n",
       "Age       0\n",
       "Height    0\n",
       "Weight    0\n",
       "Team      0\n",
       "NOC       0\n",
       "Games     0\n",
       "Year      0\n",
       "Season    0\n",
       "City      0\n",
       "Sport     0\n",
       "Event     0\n",
       "Medal     0\n",
       "dtype: int64"
      ]
     },
     "execution_count": 133,
     "metadata": {},
     "output_type": "execute_result"
    }
   ],
   "source": [
    "copydf.isnull().sum() #dataframe is now completely filled with no null values"
   ]
  },
  {
   "cell_type": "code",
   "execution_count": 134,
   "metadata": {},
   "outputs": [],
   "source": [
    "#saving to csv file\n",
    "copydf.to_csv(\"./csvs/full-cleaned.csv\", index=False)"
   ]
  },
  {
   "cell_type": "code",
   "execution_count": 136,
   "metadata": {},
   "outputs": [
    {
     "data": {
      "text/html": [
       "<div>\n",
       "<style scoped>\n",
       "    .dataframe tbody tr th:only-of-type {\n",
       "        vertical-align: middle;\n",
       "    }\n",
       "\n",
       "    .dataframe tbody tr th {\n",
       "        vertical-align: top;\n",
       "    }\n",
       "\n",
       "    .dataframe thead th {\n",
       "        text-align: right;\n",
       "    }\n",
       "</style>\n",
       "<table border=\"1\" class=\"dataframe\">\n",
       "  <thead>\n",
       "    <tr style=\"text-align: right;\">\n",
       "      <th></th>\n",
       "      <th>ID</th>\n",
       "      <th>Age</th>\n",
       "      <th>Height</th>\n",
       "      <th>Weight</th>\n",
       "      <th>Year</th>\n",
       "    </tr>\n",
       "  </thead>\n",
       "  <tbody>\n",
       "    <tr>\n",
       "      <th>count</th>\n",
       "      <td>136892.000000</td>\n",
       "      <td>136892.000000</td>\n",
       "      <td>136892.000000</td>\n",
       "      <td>136892.000000</td>\n",
       "      <td>136892.000000</td>\n",
       "    </tr>\n",
       "    <tr>\n",
       "      <th>mean</th>\n",
       "      <td>68779.118962</td>\n",
       "      <td>25.321762</td>\n",
       "      <td>175.746354</td>\n",
       "      <td>70.984523</td>\n",
       "      <td>2002.154501</td>\n",
       "    </tr>\n",
       "    <tr>\n",
       "      <th>std</th>\n",
       "      <td>39143.215332</td>\n",
       "      <td>5.390185</td>\n",
       "      <td>10.750363</td>\n",
       "      <td>14.835578</td>\n",
       "      <td>8.923408</td>\n",
       "    </tr>\n",
       "    <tr>\n",
       "      <th>min</th>\n",
       "      <td>1.000000</td>\n",
       "      <td>11.000000</td>\n",
       "      <td>127.000000</td>\n",
       "      <td>28.000000</td>\n",
       "      <td>1988.000000</td>\n",
       "    </tr>\n",
       "    <tr>\n",
       "      <th>25%</th>\n",
       "      <td>35269.000000</td>\n",
       "      <td>22.000000</td>\n",
       "      <td>168.000000</td>\n",
       "      <td>60.000000</td>\n",
       "      <td>1994.000000</td>\n",
       "    </tr>\n",
       "    <tr>\n",
       "      <th>50%</th>\n",
       "      <td>68960.500000</td>\n",
       "      <td>25.000000</td>\n",
       "      <td>176.000000</td>\n",
       "      <td>70.000000</td>\n",
       "      <td>2002.000000</td>\n",
       "    </tr>\n",
       "    <tr>\n",
       "      <th>75%</th>\n",
       "      <td>102511.000000</td>\n",
       "      <td>28.000000</td>\n",
       "      <td>183.000000</td>\n",
       "      <td>80.000000</td>\n",
       "      <td>2010.000000</td>\n",
       "    </tr>\n",
       "    <tr>\n",
       "      <th>max</th>\n",
       "      <td>135571.000000</td>\n",
       "      <td>71.000000</td>\n",
       "      <td>226.000000</td>\n",
       "      <td>214.000000</td>\n",
       "      <td>2016.000000</td>\n",
       "    </tr>\n",
       "  </tbody>\n",
       "</table>\n",
       "</div>"
      ],
      "text/plain": [
       "                  ID            Age         Height         Weight  \\\n",
       "count  136892.000000  136892.000000  136892.000000  136892.000000   \n",
       "mean    68779.118962      25.321762     175.746354      70.984523   \n",
       "std     39143.215332       5.390185      10.750363      14.835578   \n",
       "min         1.000000      11.000000     127.000000      28.000000   \n",
       "25%     35269.000000      22.000000     168.000000      60.000000   \n",
       "50%     68960.500000      25.000000     176.000000      70.000000   \n",
       "75%    102511.000000      28.000000     183.000000      80.000000   \n",
       "max    135571.000000      71.000000     226.000000     214.000000   \n",
       "\n",
       "                Year  \n",
       "count  136892.000000  \n",
       "mean     2002.154501  \n",
       "std         8.923408  \n",
       "min      1988.000000  \n",
       "25%      1994.000000  \n",
       "50%      2002.000000  \n",
       "75%      2010.000000  \n",
       "max      2016.000000  "
      ]
     },
     "execution_count": 136,
     "metadata": {},
     "output_type": "execute_result"
    }
   ],
   "source": [
    "copydf.describe()"
   ]
  },
  {
   "cell_type": "markdown",
   "metadata": {},
   "source": [
    "Data Visualisation"
   ]
  },
  {
   "cell_type": "code",
   "execution_count": 3,
   "metadata": {},
   "outputs": [],
   "source": [
    "df = pd.read_csv('./csvs/full-cleaned.csv')"
   ]
  },
  {
   "cell_type": "code",
   "execution_count": 6,
   "metadata": {},
   "outputs": [
    {
     "data": {
      "text/html": [
       "<div>\n",
       "<style scoped>\n",
       "    .dataframe tbody tr th:only-of-type {\n",
       "        vertical-align: middle;\n",
       "    }\n",
       "\n",
       "    .dataframe tbody tr th {\n",
       "        vertical-align: top;\n",
       "    }\n",
       "\n",
       "    .dataframe thead th {\n",
       "        text-align: right;\n",
       "    }\n",
       "</style>\n",
       "<table border=\"1\" class=\"dataframe\">\n",
       "  <thead>\n",
       "    <tr style=\"text-align: right;\">\n",
       "      <th></th>\n",
       "      <th>ID</th>\n",
       "      <th>Sex</th>\n",
       "      <th>Age</th>\n",
       "      <th>Height</th>\n",
       "      <th>Weight</th>\n",
       "      <th>Team</th>\n",
       "      <th>NOC</th>\n",
       "      <th>Games</th>\n",
       "      <th>Year</th>\n",
       "      <th>Season</th>\n",
       "      <th>City</th>\n",
       "      <th>Sport</th>\n",
       "      <th>Event</th>\n",
       "      <th>Medal</th>\n",
       "    </tr>\n",
       "  </thead>\n",
       "  <tbody>\n",
       "    <tr>\n",
       "      <th>0</th>\n",
       "      <td>5</td>\n",
       "      <td>F</td>\n",
       "      <td>21.0</td>\n",
       "      <td>185.000000</td>\n",
       "      <td>82.000000</td>\n",
       "      <td>Netherlands</td>\n",
       "      <td>NED</td>\n",
       "      <td>1988 Winter</td>\n",
       "      <td>1988</td>\n",
       "      <td>Winter</td>\n",
       "      <td>Calgary</td>\n",
       "      <td>Speed Skating</td>\n",
       "      <td>Speed Skating Women's 500 metres</td>\n",
       "      <td>none</td>\n",
       "    </tr>\n",
       "    <tr>\n",
       "      <th>1</th>\n",
       "      <td>5</td>\n",
       "      <td>F</td>\n",
       "      <td>21.0</td>\n",
       "      <td>185.000000</td>\n",
       "      <td>82.000000</td>\n",
       "      <td>Netherlands</td>\n",
       "      <td>NED</td>\n",
       "      <td>1988 Winter</td>\n",
       "      <td>1988</td>\n",
       "      <td>Winter</td>\n",
       "      <td>Calgary</td>\n",
       "      <td>Speed Skating</td>\n",
       "      <td>Speed Skating Women's 1,000 metres</td>\n",
       "      <td>none</td>\n",
       "    </tr>\n",
       "    <tr>\n",
       "      <th>2</th>\n",
       "      <td>29</td>\n",
       "      <td>F</td>\n",
       "      <td>22.0</td>\n",
       "      <td>175.799197</td>\n",
       "      <td>70.803213</td>\n",
       "      <td>Netherlands</td>\n",
       "      <td>NED</td>\n",
       "      <td>1988 Summer</td>\n",
       "      <td>1988</td>\n",
       "      <td>Summer</td>\n",
       "      <td>Seoul</td>\n",
       "      <td>Hockey</td>\n",
       "      <td>Hockey Women's Hockey</td>\n",
       "      <td>Bronze</td>\n",
       "    </tr>\n",
       "    <tr>\n",
       "      <th>3</th>\n",
       "      <td>57</td>\n",
       "      <td>M</td>\n",
       "      <td>24.0</td>\n",
       "      <td>176.000000</td>\n",
       "      <td>66.000000</td>\n",
       "      <td>Bulgaria</td>\n",
       "      <td>BUL</td>\n",
       "      <td>1988 Summer</td>\n",
       "      <td>1988</td>\n",
       "      <td>Summer</td>\n",
       "      <td>Seoul</td>\n",
       "      <td>Boxing</td>\n",
       "      <td>Boxing Men's Light-Welterweight</td>\n",
       "      <td>none</td>\n",
       "    </tr>\n",
       "    <tr>\n",
       "      <th>4</th>\n",
       "      <td>106</td>\n",
       "      <td>M</td>\n",
       "      <td>22.0</td>\n",
       "      <td>188.000000</td>\n",
       "      <td>96.000000</td>\n",
       "      <td>Italy</td>\n",
       "      <td>ITA</td>\n",
       "      <td>1988 Summer</td>\n",
       "      <td>1988</td>\n",
       "      <td>Summer</td>\n",
       "      <td>Seoul</td>\n",
       "      <td>Rowing</td>\n",
       "      <td>Rowing Men's Quadruple Sculls</td>\n",
       "      <td>Gold</td>\n",
       "    </tr>\n",
       "  </tbody>\n",
       "</table>\n",
       "</div>"
      ],
      "text/plain": [
       "    ID Sex   Age      Height     Weight         Team  NOC        Games  Year  \\\n",
       "0    5   F  21.0  185.000000  82.000000  Netherlands  NED  1988 Winter  1988   \n",
       "1    5   F  21.0  185.000000  82.000000  Netherlands  NED  1988 Winter  1988   \n",
       "2   29   F  22.0  175.799197  70.803213  Netherlands  NED  1988 Summer  1988   \n",
       "3   57   M  24.0  176.000000  66.000000     Bulgaria  BUL  1988 Summer  1988   \n",
       "4  106   M  22.0  188.000000  96.000000        Italy  ITA  1988 Summer  1988   \n",
       "\n",
       "   Season     City          Sport                               Event   Medal  \n",
       "0  Winter  Calgary  Speed Skating    Speed Skating Women's 500 metres    none  \n",
       "1  Winter  Calgary  Speed Skating  Speed Skating Women's 1,000 metres    none  \n",
       "2  Summer    Seoul         Hockey               Hockey Women's Hockey  Bronze  \n",
       "3  Summer    Seoul         Boxing     Boxing Men's Light-Welterweight    none  \n",
       "4  Summer    Seoul         Rowing       Rowing Men's Quadruple Sculls    Gold  "
      ]
     },
     "execution_count": 6,
     "metadata": {},
     "output_type": "execute_result"
    }
   ],
   "source": [
    "df.head()"
   ]
  },
  {
   "cell_type": "code",
   "execution_count": 7,
   "metadata": {},
   "outputs": [],
   "source": [
    "dfc = df.copy()"
   ]
  },
  {
   "cell_type": "code",
   "execution_count": 8,
   "metadata": {},
   "outputs": [
    {
     "data": {
      "image/png": "[encoded data removed]",
      "text/plain": [
       "<Figure size 432x288 with 1 Axes>"
      ]
     },
     "metadata": {
      "needs_background": "light"
     },
     "output_type": "display_data"
    }
   ],
   "source": [
    "#more num of outliers, it would be statically insignificant if removed\n",
    "dfc.boxplot(column=[\"Weight\", \"Height\"])\n",
    "plt.title(\"Box Plot (Weight and Height)\")\n",
    "plt.show()"
   ]
  },
  {
   "cell_type": "code",
   "execution_count": 9,
   "metadata": {},
   "outputs": [
    {
     "name": "stdout",
     "output_type": "stream",
     "text": [
      "['IND', 'USA', 'CHN', 'PAK', 'JPN', 'SWE', 'SVK', 'POL', 'ESP', 'SVK']\n"
     ]
    },
    {
     "data": {
      "image/png": "[encoded data removed]",
      "text/plain": [
       "<Figure size 432x288 with 1 Axes>"
      ]
     },
     "metadata": {
      "needs_background": "light"
     },
     "output_type": "display_data"
    },
    {
     "data": {
      "image/png": "[encoded data removed]",
      "text/plain": [
       "<Figure size 432x288 with 1 Axes>"
      ]
     },
     "metadata": {
      "needs_background": "light"
     },
     "output_type": "display_data"
    }
   ],
   "source": [
    "#average height of olympic players, country wise\n",
    "# IND, USA, CHN, PAK, JPN and few other randomly choosen teams\n",
    "\n",
    "import random\n",
    "con_list = [\"IND\", \"USA\", \"CHN\", \"PAK\", \"JPN\"]\n",
    "#lets add few more random teams to list\n",
    "con_list.extend([df.NOC[random.randrange(0, len(df.NOC))] for i in range(5)])\n",
    "print(con_list)\n",
    "\n",
    "df1 = dfc.groupby(\"NOC\").mean().loc[con_list]\n",
    "\n",
    "df1.Height.plot(kind=\"bar\") #average heights of 10 countries\n",
    "plt.title(\"average heights of 10 countries\")\n",
    "plt.xlabel(\"Team\")\n",
    "plt.ylabel(\"Height\")\n",
    "plt.show()\n",
    "\n",
    "df1.Weight.plot(kind=\"bar\") #average heights of 10 countries\n",
    "plt.title(\"average weights of 10 countries\")\n",
    "plt.xlabel(\"Team\")\n",
    "plt.ylabel(\"Weight\")\n",
    "plt.show()"
   ]
  },
  {
   "cell_type": "code",
   "execution_count": 11,
   "metadata": {},
   "outputs": [
    {
     "data": {
      "image/png": "[encoded data removed]",
      "text/plain": [
       "<Figure size 432x288 with 1 Axes>"
      ]
     },
     "metadata": {
      "needs_background": "light"
     },
     "output_type": "display_data"
    }
   ],
   "source": [
    "#lets compare number, heights and weights of male and felmale players\n",
    "df.Sex.value_counts().plot(kind=\"bar\") #male participation is more\n",
    "plt.title(\"Male and Female Participation\")\n",
    "plt.show()"
   ]
  },
  {
   "cell_type": "code",
   "execution_count": 12,
   "metadata": {},
   "outputs": [
    {
     "data": {
      "image/png": "[encoded data removed]",
      "text/plain": [
       "<Figure size 432x288 with 1 Axes>"
      ]
     },
     "metadata": {
      "needs_background": "light"
     },
     "output_type": "display_data"
    }
   ],
   "source": [
    "df.groupby(\"Sex\").mean().loc[:,[\"Height\", \"Weight\"]].plot(kind=\"barh\") #height and weight comparision\n",
    "plt.title(\"Male and Female players' Height and Weight\")\n",
    "plt.show()"
   ]
  },
  {
   "cell_type": "code",
   "execution_count": 13,
   "metadata": {},
   "outputs": [
    {
     "data": {
      "image/png": "[encoded data removed]",
      "text/plain": [
       "<Figure size 432x288 with 1 Axes>"
      ]
     },
     "metadata": {
      "needs_background": "light"
     },
     "output_type": "display_data"
    }
   ],
   "source": [
    "#lets compare average heights and weights of participants of different sports within India\n",
    "df2 = dfc.groupby([\"NOC\", \"Sport\"]).mean().loc[\"IND\"]\n",
    "df2.loc[:,[\"Height\", \"Weight\"]].plot(kind='bar')\n",
    "plt.title(\"Heights and Weights of players from India\")\n",
    "plt.show()"
   ]
  },
  {
   "cell_type": "code",
   "execution_count": 14,
   "metadata": {},
   "outputs": [
    {
     "data": {
      "image/png": "[encoded data removed]",
      "text/plain": [
       "<Figure size 432x288 with 1 Axes>"
      ]
     },
     "metadata": {
      "needs_background": "light"
     },
     "output_type": "display_data"
    }
   ],
   "source": [
    "#participants and number of medals won by India year wise\n",
    "df2 = dfc.loc[dfc[\"NOC\"]==\"IND\"]\n",
    "newdf = pd.DataFrame(columns=[\"Participants\", \"Medals\"])\n",
    "years = dfc.Year.unique()\n",
    "for year in years:\n",
    "    tempdf = df2.loc[dfc[\"Year\"]==year]\n",
    "    people = tempdf.drop_duplicates(\"ID\").size\n",
    "    medals = tempdf.loc[tempdf[\"Medal\"]!='none'].size\n",
    "    newdf.loc[year] = [people, medals]\n",
    "newdf.plot(kind=\"bar\")\n",
    "plt.title(\"Performance of India\")\n",
    "plt.show()"
   ]
  },
  {
   "cell_type": "code",
   "execution_count": 15,
   "metadata": {},
   "outputs": [
    {
     "data": {
      "image/png": "[encoded data removed]",
      "text/plain": [
       "<Figure size 432x288 with 1 Axes>"
      ]
     },
     "metadata": {
      "needs_background": "light"
     },
     "output_type": "display_data"
    }
   ],
   "source": [
    "#participants and number of medals won by USA year wise\n",
    "df2 = dfc.loc[(dfc[\"NOC\"]==\"USA\")]\n",
    "newdf = pd.DataFrame(columns=[\"Participants\", \"Medals\"])\n",
    "years = dfc.Year.unique()\n",
    "for year in years:\n",
    "    tempdf = df2.loc[dfc[\"Year\"]==year]\n",
    "    people = tempdf.drop_duplicates(\"ID\").size\n",
    "    medals = tempdf.loc[tempdf[\"Medal\"]!='none'].size\n",
    "    newdf.loc[year] = [people, medals]\n",
    "newdf.plot(kind=\"bar\")\n",
    "plt.title(\"Performance of USA\")\n",
    "plt.show()"
   ]
  },
  {
   "cell_type": "code",
   "execution_count": 16,
   "metadata": {},
   "outputs": [
    {
     "data": {
      "image/png": "[encoded data removed]",
      "text/plain": [
       "<Figure size 432x288 with 1 Axes>"
      ]
     },
     "metadata": {
      "needs_background": "light"
     },
     "output_type": "display_data"
    }
   ],
   "source": [
    "#participants and number of medals won by China year wise\n",
    "df2 = dfc.loc[dfc[\"NOC\"]==\"CHN\"]\n",
    "newdf = pd.DataFrame(columns=[\"Participants\", \"Medals\"])\n",
    "years = dfc.Year.unique()\n",
    "for year in years:\n",
    "    tempdf = df2.loc[dfc[\"Year\"]==year]\n",
    "    people = tempdf.drop_duplicates(\"ID\").size\n",
    "    medals = tempdf.loc[tempdf[\"Medal\"]!='none'].size\n",
    "    newdf.loc[year] = [people, medals]\n",
    "newdf.plot(kind=\"bar\")\n",
    "plt.title(\"Performance of China\")\n",
    "plt.show()"
   ]
  },
  {
   "cell_type": "code",
   "execution_count": 17,
   "metadata": {},
   "outputs": [
    {
     "data": {
      "image/png": "[encoded data removed]",
      "text/plain": [
       "<Figure size 432x288 with 1 Axes>"
      ]
     },
     "metadata": {
      "needs_background": "light"
     },
     "output_type": "display_data"
    }
   ],
   "source": [
    "#participants and number of medals won by Japan year wise\n",
    "df2 = dfc.loc[dfc[\"NOC\"]==\"JPN\"]\n",
    "newdf = pd.DataFrame(columns=[\"Participants\", \"Medals\"])\n",
    "years = dfc.Year.unique()\n",
    "for year in years:\n",
    "    tempdf = df2.loc[dfc[\"Year\"]==year]\n",
    "    people = tempdf.drop_duplicates(\"ID\").size\n",
    "    medals = tempdf.loc[tempdf[\"Medal\"]!='none'].size\n",
    "    newdf.loc[year] = [people, medals]\n",
    "newdf.plot(kind=\"bar\")\n",
    "plt.title(\"Performance of Japan\")\n",
    "plt.show()"
   ]
  },
  {
   "cell_type": "code",
   "execution_count": 18,
   "metadata": {},
   "outputs": [
    {
     "data": {
      "image/png": "[encoded data removed]",
      "text/plain": [
       "<Figure size 432x288 with 1 Axes>"
      ]
     },
     "metadata": {
      "needs_background": "light"
     },
     "output_type": "display_data"
    }
   ],
   "source": [
    "#participants and number of medals won by Russia year wise\n",
    "df2 = dfc.loc[(dfc[\"NOC\"]==\"RUS\") | (dfc[\"NOC\"]==\"URS\")]\n",
    "newdf = pd.DataFrame(columns=[\"Participants\", \"Medals\"])\n",
    "years = dfc.Year.unique()\n",
    "for year in years:\n",
    "    tempdf = df2.loc[dfc[\"Year\"]==year]\n",
    "    people = tempdf.drop_duplicates(\"ID\").size\n",
    "    medals = tempdf.loc[tempdf[\"Medal\"]!='none'].size\n",
    "    newdf.loc[year] = [people, medals]\n",
    "newdf.plot(kind=\"bar\")\n",
    "plt.title(\"Performance of Russia\")\n",
    "plt.show()"
   ]
  },
  {
   "cell_type": "code",
   "execution_count": 19,
   "metadata": {},
   "outputs": [
    {
     "data": {
      "image/png": "[encoded data removed]",
      "text/plain": [
       "<Figure size 432x288 with 1 Axes>"
      ]
     },
     "metadata": {
      "needs_background": "light"
     },
     "output_type": "display_data"
    }
   ],
   "source": [
    "#lets see about male and female participation from India, year wise\n",
    "df2 = dfc.loc[dfc[\"NOC\"]==\"IND\"]\n",
    "years = dfc.Year.unique()\n",
    "newdf = pd.DataFrame(columns=['Male', 'Female'])\n",
    "for year in years:\n",
    "    tempdf = df2.loc[df2[\"Year\"]==year]\n",
    "    male = tempdf.loc[tempdf[\"Sex\"]==\"M\"].size\n",
    "    female = tempdf.loc[tempdf[\"Sex\"]==\"F\"].size\n",
    "    newdf.loc[year] = [male, female]\n",
    "newdf.plot(kind=\"bar\")\n",
    "plt.title(\"male and female participation in India\")\n",
    "plt.show()"
   ]
  },
  {
   "cell_type": "code",
   "execution_count": 20,
   "metadata": {},
   "outputs": [
    {
     "data": {
      "image/png": "[encoded data removed]",
      "text/plain": [
       "<Figure size 432x288 with 1 Axes>"
      ]
     },
     "metadata": {
      "needs_background": "light"
     },
     "output_type": "display_data"
    }
   ],
   "source": [
    "#lets see about male and female participation from USA, year wise\n",
    "df2 = dfc.loc[dfc[\"NOC\"]==\"USA\"]\n",
    "years = dfc.Year.unique()\n",
    "newdf = pd.DataFrame(columns=['Male', 'Female'])\n",
    "for year in years:\n",
    "    tempdf = df2.loc[df2[\"Year\"]==year]\n",
    "    male = tempdf.loc[tempdf[\"Sex\"]==\"M\"].size\n",
    "    female = tempdf.loc[tempdf[\"Sex\"]==\"F\"].size\n",
    "    newdf.loc[year] = [male, female]\n",
    "newdf.plot(kind=\"bar\")\n",
    "plt.title(\"male and female participation in USA\")\n",
    "plt.show()"
   ]
  },
  {
   "cell_type": "code",
   "execution_count": 21,
   "metadata": {},
   "outputs": [
    {
     "data": {
      "image/png": "[encoded data removed]",
      "text/plain": [
       "<Figure size 432x288 with 1 Axes>"
      ]
     },
     "metadata": {
      "needs_background": "light"
     },
     "output_type": "display_data"
    },
    {
     "data": {
      "image/png": "[encoded data removed]",
      "text/plain": [
       "<Figure size 432x288 with 1 Axes>"
      ]
     },
     "metadata": {
      "needs_background": "light"
     },
     "output_type": "display_data"
    }
   ],
   "source": [
    "#sport wise performance in USA, in 2016\n",
    "df2 = dfc.loc[(dfc[\"NOC\"]==\"USA\") & (dfc[\"Year\"]==2016)]\n",
    "sport_list = dfc['Sport'].unique()\n",
    "newdf = pd.DataFrame(columns=[\"Participants\", \"Medals\"])\n",
    "for sport in sport_list:\n",
    "    tempdf = df2.loc[df2[\"Sport\"]==sport]\n",
    "    participants = tempdf.size\n",
    "    medals = tempdf.loc[tempdf[\"Medal\"]!='none'].size\n",
    "    newdf.loc[sport] = [participants, medals]\n",
    "newdf.sort_values(\"Medals\", ascending=0, inplace=True)\n",
    "newdf[0:10].plot(kind=\"bar\")\n",
    "plt.title(\"sport wise performance in USA, in 2016 (top 10)\")\n",
    "plt.show()\n",
    "\n",
    "#sport wise performance in USA, in 2012\n",
    "df2 = dfc.loc[(dfc[\"NOC\"]==\"USA\") & (dfc[\"Year\"]==2012)]\n",
    "sport_list = dfc['Sport'].unique()\n",
    "newdf = pd.DataFrame(columns=[\"Participants\", \"Medals\"])\n",
    "for sport in sport_list:\n",
    "    tempdf = df2.loc[df2[\"Sport\"]==sport]\n",
    "    participants = tempdf.size\n",
    "    medals = tempdf.loc[tempdf[\"Medal\"]!='none'].size\n",
    "    newdf.loc[sport] = [participants, medals]\n",
    "newdf.sort_values(\"Medals\", ascending=0, inplace=True)\n",
    "newdf[0:10].plot(kind=\"bar\")\n",
    "plt.title(\"sport wise performance in USA, in 2012 (top 10)\")\n",
    "plt.show()\n",
    "\n",
    "#we can say that USA gets more medals in swimming"
   ]
  },
  {
   "cell_type": "code",
   "execution_count": 22,
   "metadata": {},
   "outputs": [
    {
     "data": {
      "image/png": "[encoded data removed]",
      "text/plain": [
       "<Figure size 432x288 with 1 Axes>"
      ]
     },
     "metadata": {
      "needs_background": "light"
     },
     "output_type": "display_data"
    },
    {
     "data": {
      "image/png": "[encoded data removed]",
      "text/plain": [
       "<Figure size 432x288 with 1 Axes>"
      ]
     },
     "metadata": {
      "needs_background": "light"
     },
     "output_type": "display_data"
    },
    {
     "data": {
      "image/png": "[encoded data removed]",
      "text/plain": [
       "<Figure size 432x288 with 1 Axes>"
      ]
     },
     "metadata": {
      "needs_background": "light"
     },
     "output_type": "display_data"
    }
   ],
   "source": [
    "#lets see the height and weight distribution of winners\n",
    "dftemp = dfc.loc[dfc[\"Medal\"]!='none'].drop_duplicates(\"ID\")\n",
    "plt.hist(dftemp.Weight)\n",
    "plt.xlabel(\"Weight\")\n",
    "plt.ylabel(\"Frequency\")\n",
    "plt.title(\"Winners' Weight\")\n",
    "plt.show()\n",
    "plt.hist(dftemp.Height)\n",
    "plt.xlabel(\"Height\")\n",
    "plt.ylabel(\"Frequency\")\n",
    "plt.title(\"Winners' Height\")\n",
    "plt.show()\n",
    "plt.hist(dftemp.Age)\n",
    "plt.xlabel(\"Age\")\n",
    "plt.ylabel(\"Frequency\")\n",
    "plt.title(\"Winners' Age\")\n",
    "plt.show()"
   ]
  },
  {
   "cell_type": "code",
   "execution_count": 23,
   "metadata": {},
   "outputs": [
    {
     "data": {
      "image/png": "[encoded data removed]",
      "text/plain": [
       "<Figure size 432x288 with 1 Axes>"
      ]
     },
     "metadata": {
      "needs_background": "light"
     },
     "output_type": "display_data"
    },
    {
     "data": {
      "image/png": "[encoded data removed]",
      "text/plain": [
       "<Figure size 432x288 with 1 Axes>"
      ]
     },
     "metadata": {
      "needs_background": "light"
     },
     "output_type": "display_data"
    },
    {
     "data": {
      "image/png": "[encoded data removed]",
      "text/plain": [
       "<Figure size 432x288 with 1 Axes>"
      ]
     },
     "metadata": {
      "needs_background": "light"
     },
     "output_type": "display_data"
    }
   ],
   "source": [
    "#lets see the height and weight distribution of gold medalists\n",
    "dftemp = dfc.loc[dfc[\"Medal\"]==\"Gold\"].drop_duplicates(\"ID\")\n",
    "plt.hist(dftemp.Weight)\n",
    "plt.xlabel(\"Weight\")\n",
    "plt.ylabel(\"Frequency\")\n",
    "plt.title(\"Gold medalists' Weight\")\n",
    "plt.show()\n",
    "plt.hist(dftemp.Height)\n",
    "plt.xlabel(\"Height\")\n",
    "plt.ylabel(\"Frequency\")\n",
    "plt.title(\"Gold medalists' Height\")\n",
    "plt.show()\n",
    "plt.hist(dftemp.Age)\n",
    "plt.xlabel(\"Age\")\n",
    "plt.ylabel(\"Frequency\")\n",
    "plt.title(\"Gold medalists' Age\")\n",
    "plt.show()"
   ]
  },
  {
   "cell_type": "markdown",
   "metadata": {},
   "source": [
    "Normalization and Standardization"
   ]
  },
  {
   "cell_type": "code",
   "execution_count": 24,
   "metadata": {},
   "outputs": [],
   "source": [
    "df = pd.read_csv('./csvs/full-cleaned.csv')"
   ]
  },
  {
   "cell_type": "code",
   "execution_count": 25,
   "metadata": {},
   "outputs": [
    {
     "data": {
      "text/html": [
       "<div>\n",
       "<style scoped>\n",
       "    .dataframe tbody tr th:only-of-type {\n",
       "        vertical-align: middle;\n",
       "    }\n",
       "\n",
       "    .dataframe tbody tr th {\n",
       "        vertical-align: top;\n",
       "    }\n",
       "\n",
       "    .dataframe thead th {\n",
       "        text-align: right;\n",
       "    }\n",
       "</style>\n",
       "<table border=\"1\" class=\"dataframe\">\n",
       "  <thead>\n",
       "    <tr style=\"text-align: right;\">\n",
       "      <th></th>\n",
       "      <th>ID</th>\n",
       "      <th>Sex</th>\n",
       "      <th>Age</th>\n",
       "      <th>Height</th>\n",
       "      <th>Weight</th>\n",
       "      <th>Team</th>\n",
       "      <th>NOC</th>\n",
       "      <th>Games</th>\n",
       "      <th>Year</th>\n",
       "      <th>Season</th>\n",
       "      <th>City</th>\n",
       "      <th>Sport</th>\n",
       "      <th>Event</th>\n",
       "      <th>Medal</th>\n",
       "    </tr>\n",
       "  </thead>\n",
       "  <tbody>\n",
       "    <tr>\n",
       "      <th>0</th>\n",
       "      <td>5</td>\n",
       "      <td>F</td>\n",
       "      <td>21.0</td>\n",
       "      <td>185.000000</td>\n",
       "      <td>82.000000</td>\n",
       "      <td>Netherlands</td>\n",
       "      <td>NED</td>\n",
       "      <td>1988 Winter</td>\n",
       "      <td>1988</td>\n",
       "      <td>Winter</td>\n",
       "      <td>Calgary</td>\n",
       "      <td>Speed Skating</td>\n",
       "      <td>Speed Skating Women's 500 metres</td>\n",
       "      <td>none</td>\n",
       "    </tr>\n",
       "    <tr>\n",
       "      <th>1</th>\n",
       "      <td>5</td>\n",
       "      <td>F</td>\n",
       "      <td>21.0</td>\n",
       "      <td>185.000000</td>\n",
       "      <td>82.000000</td>\n",
       "      <td>Netherlands</td>\n",
       "      <td>NED</td>\n",
       "      <td>1988 Winter</td>\n",
       "      <td>1988</td>\n",
       "      <td>Winter</td>\n",
       "      <td>Calgary</td>\n",
       "      <td>Speed Skating</td>\n",
       "      <td>Speed Skating Women's 1,000 metres</td>\n",
       "      <td>none</td>\n",
       "    </tr>\n",
       "    <tr>\n",
       "      <th>2</th>\n",
       "      <td>29</td>\n",
       "      <td>F</td>\n",
       "      <td>22.0</td>\n",
       "      <td>175.799197</td>\n",
       "      <td>70.803213</td>\n",
       "      <td>Netherlands</td>\n",
       "      <td>NED</td>\n",
       "      <td>1988 Summer</td>\n",
       "      <td>1988</td>\n",
       "      <td>Summer</td>\n",
       "      <td>Seoul</td>\n",
       "      <td>Hockey</td>\n",
       "      <td>Hockey Women's Hockey</td>\n",
       "      <td>Bronze</td>\n",
       "    </tr>\n",
       "    <tr>\n",
       "      <th>3</th>\n",
       "      <td>57</td>\n",
       "      <td>M</td>\n",
       "      <td>24.0</td>\n",
       "      <td>176.000000</td>\n",
       "      <td>66.000000</td>\n",
       "      <td>Bulgaria</td>\n",
       "      <td>BUL</td>\n",
       "      <td>1988 Summer</td>\n",
       "      <td>1988</td>\n",
       "      <td>Summer</td>\n",
       "      <td>Seoul</td>\n",
       "      <td>Boxing</td>\n",
       "      <td>Boxing Men's Light-Welterweight</td>\n",
       "      <td>none</td>\n",
       "    </tr>\n",
       "    <tr>\n",
       "      <th>4</th>\n",
       "      <td>106</td>\n",
       "      <td>M</td>\n",
       "      <td>22.0</td>\n",
       "      <td>188.000000</td>\n",
       "      <td>96.000000</td>\n",
       "      <td>Italy</td>\n",
       "      <td>ITA</td>\n",
       "      <td>1988 Summer</td>\n",
       "      <td>1988</td>\n",
       "      <td>Summer</td>\n",
       "      <td>Seoul</td>\n",
       "      <td>Rowing</td>\n",
       "      <td>Rowing Men's Quadruple Sculls</td>\n",
       "      <td>Gold</td>\n",
       "    </tr>\n",
       "  </tbody>\n",
       "</table>\n",
       "</div>"
      ],
      "text/plain": [
       "    ID Sex   Age      Height     Weight         Team  NOC        Games  Year  \\\n",
       "0    5   F  21.0  185.000000  82.000000  Netherlands  NED  1988 Winter  1988   \n",
       "1    5   F  21.0  185.000000  82.000000  Netherlands  NED  1988 Winter  1988   \n",
       "2   29   F  22.0  175.799197  70.803213  Netherlands  NED  1988 Summer  1988   \n",
       "3   57   M  24.0  176.000000  66.000000     Bulgaria  BUL  1988 Summer  1988   \n",
       "4  106   M  22.0  188.000000  96.000000        Italy  ITA  1988 Summer  1988   \n",
       "\n",
       "   Season     City          Sport                               Event   Medal  \n",
       "0  Winter  Calgary  Speed Skating    Speed Skating Women's 500 metres    none  \n",
       "1  Winter  Calgary  Speed Skating  Speed Skating Women's 1,000 metres    none  \n",
       "2  Summer    Seoul         Hockey               Hockey Women's Hockey  Bronze  \n",
       "3  Summer    Seoul         Boxing     Boxing Men's Light-Welterweight    none  \n",
       "4  Summer    Seoul         Rowing       Rowing Men's Quadruple Sculls    Gold  "
      ]
     },
     "execution_count": 25,
     "metadata": {},
     "output_type": "execute_result"
    }
   ],
   "source": [
    "df.head()"
   ]
  },
  {
   "cell_type": "code",
   "execution_count": 26,
   "metadata": {},
   "outputs": [
    {
     "name": "stdout",
     "output_type": "stream",
     "text": [
      "mean Age: 25.321761794326413\n",
      "variance of Age: 29.05409704339148\n",
      "mean Height: 175.7463536854656\n",
      "variance of Height: 115.57030979533694\n",
      "mean Weight: 70.98452274291073\n",
      "variance of Weight: 220.09437679089913\n"
     ]
    }
   ],
   "source": [
    "#computing mean and variance of each numerical column\n",
    "for col in df.columns:\n",
    "    if df[col].dtype == 'float64':\n",
    "        print(\"mean \" + col + \":\", df[col].mean())\n",
    "        print(\"variance of \" + col + \":\", df[col].var())"
   ]
  },
  {
   "cell_type": "code",
   "execution_count": 27,
   "metadata": {},
   "outputs": [],
   "source": [
    "#There are multiple normalization techniques in statistics\n",
    "#Normalization of data using z-score methodin each column to make mean = 0 and variance = 1\n",
    "df['Age'] = (df['Age'] - df['Age'].mean()) / df['Age'].std()\n",
    "df['Height'] = (df['Height'] - df['Height'].mean()) / df['Height'].std()\n",
    "df['Weight'] = (df['Weight'] - df['Weight'].mean()) / df['Weight'].std()"
   ]
  },
  {
   "cell_type": "code",
   "execution_count": 28,
   "metadata": {},
   "outputs": [
    {
     "data": {
      "text/html": [
       "<div>\n",
       "<style scoped>\n",
       "    .dataframe tbody tr th:only-of-type {\n",
       "        vertical-align: middle;\n",
       "    }\n",
       "\n",
       "    .dataframe tbody tr th {\n",
       "        vertical-align: top;\n",
       "    }\n",
       "\n",
       "    .dataframe thead th {\n",
       "        text-align: right;\n",
       "    }\n",
       "</style>\n",
       "<table border=\"1\" class=\"dataframe\">\n",
       "  <thead>\n",
       "    <tr style=\"text-align: right;\">\n",
       "      <th></th>\n",
       "      <th>ID</th>\n",
       "      <th>Sex</th>\n",
       "      <th>Age</th>\n",
       "      <th>Height</th>\n",
       "      <th>Weight</th>\n",
       "      <th>Team</th>\n",
       "      <th>NOC</th>\n",
       "      <th>Games</th>\n",
       "      <th>Year</th>\n",
       "      <th>Season</th>\n",
       "      <th>City</th>\n",
       "      <th>Sport</th>\n",
       "      <th>Event</th>\n",
       "      <th>Medal</th>\n",
       "    </tr>\n",
       "  </thead>\n",
       "  <tbody>\n",
       "    <tr>\n",
       "      <th>0</th>\n",
       "      <td>5</td>\n",
       "      <td>F</td>\n",
       "      <td>-0.801784</td>\n",
       "      <td>0.860775</td>\n",
       "      <td>0.742504</td>\n",
       "      <td>Netherlands</td>\n",
       "      <td>NED</td>\n",
       "      <td>1988 Winter</td>\n",
       "      <td>1988</td>\n",
       "      <td>Winter</td>\n",
       "      <td>Calgary</td>\n",
       "      <td>Speed Skating</td>\n",
       "      <td>Speed Skating Women's 500 metres</td>\n",
       "      <td>none</td>\n",
       "    </tr>\n",
       "    <tr>\n",
       "      <th>1</th>\n",
       "      <td>5</td>\n",
       "      <td>F</td>\n",
       "      <td>-0.801784</td>\n",
       "      <td>0.860775</td>\n",
       "      <td>0.742504</td>\n",
       "      <td>Netherlands</td>\n",
       "      <td>NED</td>\n",
       "      <td>1988 Winter</td>\n",
       "      <td>1988</td>\n",
       "      <td>Winter</td>\n",
       "      <td>Calgary</td>\n",
       "      <td>Speed Skating</td>\n",
       "      <td>Speed Skating Women's 1,000 metres</td>\n",
       "      <td>none</td>\n",
       "    </tr>\n",
       "    <tr>\n",
       "      <th>2</th>\n",
       "      <td>29</td>\n",
       "      <td>F</td>\n",
       "      <td>-0.616261</td>\n",
       "      <td>0.004915</td>\n",
       "      <td>-0.012221</td>\n",
       "      <td>Netherlands</td>\n",
       "      <td>NED</td>\n",
       "      <td>1988 Summer</td>\n",
       "      <td>1988</td>\n",
       "      <td>Summer</td>\n",
       "      <td>Seoul</td>\n",
       "      <td>Hockey</td>\n",
       "      <td>Hockey Women's Hockey</td>\n",
       "      <td>Bronze</td>\n",
       "    </tr>\n",
       "    <tr>\n",
       "      <th>3</th>\n",
       "      <td>57</td>\n",
       "      <td>M</td>\n",
       "      <td>-0.245216</td>\n",
       "      <td>0.023594</td>\n",
       "      <td>-0.335984</td>\n",
       "      <td>Bulgaria</td>\n",
       "      <td>BUL</td>\n",
       "      <td>1988 Summer</td>\n",
       "      <td>1988</td>\n",
       "      <td>Summer</td>\n",
       "      <td>Seoul</td>\n",
       "      <td>Boxing</td>\n",
       "      <td>Boxing Men's Light-Welterweight</td>\n",
       "      <td>none</td>\n",
       "    </tr>\n",
       "    <tr>\n",
       "      <th>4</th>\n",
       "      <td>106</td>\n",
       "      <td>M</td>\n",
       "      <td>-0.616261</td>\n",
       "      <td>1.139836</td>\n",
       "      <td>1.686181</td>\n",
       "      <td>Italy</td>\n",
       "      <td>ITA</td>\n",
       "      <td>1988 Summer</td>\n",
       "      <td>1988</td>\n",
       "      <td>Summer</td>\n",
       "      <td>Seoul</td>\n",
       "      <td>Rowing</td>\n",
       "      <td>Rowing Men's Quadruple Sculls</td>\n",
       "      <td>Gold</td>\n",
       "    </tr>\n",
       "  </tbody>\n",
       "</table>\n",
       "</div>"
      ],
      "text/plain": [
       "    ID Sex       Age    Height    Weight         Team  NOC        Games  Year  \\\n",
       "0    5   F -0.801784  0.860775  0.742504  Netherlands  NED  1988 Winter  1988   \n",
       "1    5   F -0.801784  0.860775  0.742504  Netherlands  NED  1988 Winter  1988   \n",
       "2   29   F -0.616261  0.004915 -0.012221  Netherlands  NED  1988 Summer  1988   \n",
       "3   57   M -0.245216  0.023594 -0.335984     Bulgaria  BUL  1988 Summer  1988   \n",
       "4  106   M -0.616261  1.139836  1.686181        Italy  ITA  1988 Summer  1988   \n",
       "\n",
       "   Season     City          Sport                               Event   Medal  \n",
       "0  Winter  Calgary  Speed Skating    Speed Skating Women's 500 metres    none  \n",
       "1  Winter  Calgary  Speed Skating  Speed Skating Women's 1,000 metres    none  \n",
       "2  Summer    Seoul         Hockey               Hockey Women's Hockey  Bronze  \n",
       "3  Summer    Seoul         Boxing     Boxing Men's Light-Welterweight    none  \n",
       "4  Summer    Seoul         Rowing       Rowing Men's Quadruple Sculls    Gold  "
      ]
     },
     "execution_count": 28,
     "metadata": {},
     "output_type": "execute_result"
    }
   ],
   "source": [
    "df.head() #normalized dataset"
   ]
  },
  {
   "cell_type": "code",
   "execution_count": 29,
   "metadata": {},
   "outputs": [],
   "source": [
    "#saving to .csv file\n",
    "df.to_csv(\"./csvs/normalized-data.csv\", index=False)"
   ]
  },
  {
   "cell_type": "code",
   "execution_count": 34,
   "metadata": {},
   "outputs": [
    {
     "data": {
      "image/png": "[encoded data removed]",
      "text/plain": [
       "<Figure size 432x288 with 1 Axes>"
      ]
     },
     "metadata": {
      "needs_background": "light"
     },
     "output_type": "display_data"
    }
   ],
   "source": [
    "#“Normal Q-Q Plot” provides a graphical way to determine the level of normality\n",
    "import scipy.stats as stats\n",
    "stats.probplot(df['Age'], dist=\"norm\", plot=plt)\n",
    "plt.title(\"Q-Q Plot (Age)\")\n",
    "plt.show()"
   ]
  },
  {
   "cell_type": "code",
   "execution_count": 35,
   "metadata": {},
   "outputs": [
    {
     "data": {
      "image/png": "[encoded data removed]",
      "text/plain": [
       "<Figure size 432x288 with 1 Axes>"
      ]
     },
     "metadata": {
      "needs_background": "light"
     },
     "output_type": "display_data"
    }
   ],
   "source": [
    "stats.probplot(df['Height'], dist=\"norm\", plot=plt)\n",
    "plt.title(\"Q-Q Plot (Height)\")\n",
    "plt.show()"
   ]
  },
  {
   "cell_type": "code",
   "execution_count": 36,
   "metadata": {},
   "outputs": [
    {
     "data": {
      "image/png": "[encoded data removed]",
      "text/plain": [
       "<Figure size 432x288 with 1 Axes>"
      ]
     },
     "metadata": {
      "needs_background": "light"
     },
     "output_type": "display_data"
    }
   ],
   "source": [
    "stats.probplot(df['Weight'], dist=\"norm\", plot=plt)\n",
    "plt.title(\"Q-Q Plot (Weight)\")\n",
    "plt.show()"
   ]
  },
  {
   "cell_type": "code",
   "execution_count": 37,
   "metadata": {},
   "outputs": [],
   "source": [
    "#Age and Weight are NOT normally distributed (they are right skewed)\n",
    "#whereas Height is normally distributed"
   ]
  },
  {
   "cell_type": "code",
   "execution_count": 41,
   "metadata": {},
   "outputs": [
    {
     "data": {
      "image/png": "[encoded data removed]",
      "text/plain": [
       "<Figure size 432x288 with 1 Axes>"
      ]
     },
     "metadata": {
      "needs_background": "light"
     },
     "output_type": "display_data"
    },
    {
     "data": {
      "image/png": "[encoded data removed]",
      "text/plain": [
       "<Figure size 432x288 with 1 Axes>"
      ]
     },
     "metadata": {
      "needs_background": "light"
     },
     "output_type": "display_data"
    },
    {
     "data": {
      "image/png": "[encoded data removed]",
      "text/plain": [
       "<Figure size 432x288 with 1 Axes>"
      ]
     },
     "metadata": {
      "needs_background": "light"
     },
     "output_type": "display_data"
    }
   ],
   "source": [
    "df[\"Age\"].hist() #right skewed\n",
    "plt.title(\"Age\")\n",
    "plt.show()\n",
    "df[\"Height\"].hist() #normal\n",
    "plt.title(\"Height\")\n",
    "plt.show()\n",
    "df[\"Weight\"].hist() #right skewed\n",
    "plt.title(\"Weight\")\n",
    "plt.show()"
   ]
  },
  {
   "cell_type": "markdown",
   "metadata": {},
   "source": [
    "Hypothesis Testing"
   ]
  },
  {
   "cell_type": "code",
   "execution_count": 2,
   "metadata": {},
   "outputs": [
    {
     "data": {
      "text/html": [
       "<div>\n",
       "<style scoped>\n",
       "    .dataframe tbody tr th:only-of-type {\n",
       "        vertical-align: middle;\n",
       "    }\n",
       "\n",
       "    .dataframe tbody tr th {\n",
       "        vertical-align: top;\n",
       "    }\n",
       "\n",
       "    .dataframe thead th {\n",
       "        text-align: right;\n",
       "    }\n",
       "</style>\n",
       "<table border=\"1\" class=\"dataframe\">\n",
       "  <thead>\n",
       "    <tr style=\"text-align: right;\">\n",
       "      <th></th>\n",
       "      <th>ID</th>\n",
       "      <th>Sex</th>\n",
       "      <th>Age</th>\n",
       "      <th>Height</th>\n",
       "      <th>Weight</th>\n",
       "      <th>Team</th>\n",
       "      <th>NOC</th>\n",
       "      <th>Games</th>\n",
       "      <th>Year</th>\n",
       "      <th>Season</th>\n",
       "      <th>City</th>\n",
       "      <th>Sport</th>\n",
       "      <th>Event</th>\n",
       "      <th>Medal</th>\n",
       "    </tr>\n",
       "  </thead>\n",
       "  <tbody>\n",
       "    <tr>\n",
       "      <th>0</th>\n",
       "      <td>5</td>\n",
       "      <td>F</td>\n",
       "      <td>21.0</td>\n",
       "      <td>185.000000</td>\n",
       "      <td>82.000000</td>\n",
       "      <td>Netherlands</td>\n",
       "      <td>NED</td>\n",
       "      <td>1988 Winter</td>\n",
       "      <td>1988</td>\n",
       "      <td>Winter</td>\n",
       "      <td>Calgary</td>\n",
       "      <td>Speed Skating</td>\n",
       "      <td>Speed Skating Women's 500 metres</td>\n",
       "      <td>none</td>\n",
       "    </tr>\n",
       "    <tr>\n",
       "      <th>1</th>\n",
       "      <td>5</td>\n",
       "      <td>F</td>\n",
       "      <td>21.0</td>\n",
       "      <td>185.000000</td>\n",
       "      <td>82.000000</td>\n",
       "      <td>Netherlands</td>\n",
       "      <td>NED</td>\n",
       "      <td>1988 Winter</td>\n",
       "      <td>1988</td>\n",
       "      <td>Winter</td>\n",
       "      <td>Calgary</td>\n",
       "      <td>Speed Skating</td>\n",
       "      <td>Speed Skating Women's 1,000 metres</td>\n",
       "      <td>none</td>\n",
       "    </tr>\n",
       "    <tr>\n",
       "      <th>2</th>\n",
       "      <td>29</td>\n",
       "      <td>F</td>\n",
       "      <td>22.0</td>\n",
       "      <td>175.799197</td>\n",
       "      <td>70.803213</td>\n",
       "      <td>Netherlands</td>\n",
       "      <td>NED</td>\n",
       "      <td>1988 Summer</td>\n",
       "      <td>1988</td>\n",
       "      <td>Summer</td>\n",
       "      <td>Seoul</td>\n",
       "      <td>Hockey</td>\n",
       "      <td>Hockey Women's Hockey</td>\n",
       "      <td>Bronze</td>\n",
       "    </tr>\n",
       "    <tr>\n",
       "      <th>3</th>\n",
       "      <td>57</td>\n",
       "      <td>M</td>\n",
       "      <td>24.0</td>\n",
       "      <td>176.000000</td>\n",
       "      <td>66.000000</td>\n",
       "      <td>Bulgaria</td>\n",
       "      <td>BUL</td>\n",
       "      <td>1988 Summer</td>\n",
       "      <td>1988</td>\n",
       "      <td>Summer</td>\n",
       "      <td>Seoul</td>\n",
       "      <td>Boxing</td>\n",
       "      <td>Boxing Men's Light-Welterweight</td>\n",
       "      <td>none</td>\n",
       "    </tr>\n",
       "    <tr>\n",
       "      <th>4</th>\n",
       "      <td>106</td>\n",
       "      <td>M</td>\n",
       "      <td>22.0</td>\n",
       "      <td>188.000000</td>\n",
       "      <td>96.000000</td>\n",
       "      <td>Italy</td>\n",
       "      <td>ITA</td>\n",
       "      <td>1988 Summer</td>\n",
       "      <td>1988</td>\n",
       "      <td>Summer</td>\n",
       "      <td>Seoul</td>\n",
       "      <td>Rowing</td>\n",
       "      <td>Rowing Men's Quadruple Sculls</td>\n",
       "      <td>Gold</td>\n",
       "    </tr>\n",
       "  </tbody>\n",
       "</table>\n",
       "</div>"
      ],
      "text/plain": [
       "    ID Sex   Age      Height     Weight         Team  NOC        Games  Year  \\\n",
       "0    5   F  21.0  185.000000  82.000000  Netherlands  NED  1988 Winter  1988   \n",
       "1    5   F  21.0  185.000000  82.000000  Netherlands  NED  1988 Winter  1988   \n",
       "2   29   F  22.0  175.799197  70.803213  Netherlands  NED  1988 Summer  1988   \n",
       "3   57   M  24.0  176.000000  66.000000     Bulgaria  BUL  1988 Summer  1988   \n",
       "4  106   M  22.0  188.000000  96.000000        Italy  ITA  1988 Summer  1988   \n",
       "\n",
       "   Season     City          Sport                               Event   Medal  \n",
       "0  Winter  Calgary  Speed Skating    Speed Skating Women's 500 metres    none  \n",
       "1  Winter  Calgary  Speed Skating  Speed Skating Women's 1,000 metres    none  \n",
       "2  Summer    Seoul         Hockey               Hockey Women's Hockey  Bronze  \n",
       "3  Summer    Seoul         Boxing     Boxing Men's Light-Welterweight    none  \n",
       "4  Summer    Seoul         Rowing       Rowing Men's Quadruple Sculls    Gold  "
      ]
     },
     "execution_count": 2,
     "metadata": {},
     "output_type": "execute_result"
    }
   ],
   "source": [
    "df = pd.read_csv(\"./csvs/full-cleaned.csv\")\n",
    "df.head()"
   ]
  },
  {
   "cell_type": "code",
   "execution_count": 3,
   "metadata": {},
   "outputs": [],
   "source": [
    "#One of our friend thinks that mean height of Indian Olympic players is 172cm.\n",
    "#Lets perform a Hypothesis test, to verify the truthness of the assumption\n",
    "\n",
    "#lets take, \n",
    "#Null hypothesis,      Ho: xbar = 175 cm\n",
    "#Alternate hypothesis, H1: xbar != 175 cm\n",
    "#so, its a two-tailed test"
   ]
  },
  {
   "cell_type": "code",
   "execution_count": 8,
   "metadata": {},
   "outputs": [
    {
     "name": "stdout",
     "output_type": "stream",
     "text": [
      "Sample Heights are: [179.0, 187.0, 162.0, 173.0, 163.0, 175.0, 185.0, 171.46666666666667, 170.9306930693069, 180.0, 170.9306930693069, 160.0, 166.0, 173.0, 174.0, 172.0, 193.0, 172.7076923076923, 176.0, 167.0, 170.0, 191.0, 180.0, 159.0, 170.0, 172.7076923076923, 162.0, 170.9306930693069, 191.0, 162.0, 173.0, 170.0, 175.0, 163.0, 162.6, 181.0, 185.0, 160.0, 176.0, 154.5, 167.0, 155.0, 162.0, 163.0, 177.0, 175.0, 180.0, 171.85714285714286, 180.0, 162.0, 185.0, 175.0, 167.0, 154.5, 177.64285714285714, 184.0, 158.0, 182.0, 178.0, 164.0, 191.0, 171.46666666666667, 167.0, 167.0, 159.0, 169.0, 149.0, 177.64285714285714, 156.0, 168.0, 175.0, 175.0, 167.0, 172.0, 170.0, 180.0, 171.46666666666667, 167.0, 182.0, 171.46666666666667, 180.0, 165.0, 186.0, 175.0, 177.0, 167.0, 176.0, 177.0, 178.0, 175.0, 165.0, 170.9306930693069, 182.0, 168.0, 172.0, 165.0, 164.0, 173.0, 178.0, 170.9306930693069]\n"
     ]
    }
   ],
   "source": [
    "#now, lets select a random sample of 100 Indian Players\n",
    "#we are selecting 100 players from the dataframe of unique Indian Players\n",
    "\n",
    "n = 100\n",
    "sample = df.loc[df.NOC == 'IND'].drop_duplicates(\"ID\").sample(n=n)\n",
    "print(\"Sample Heights are:\", list(sample.Height))"
   ]
  },
  {
   "cell_type": "code",
   "execution_count": 9,
   "metadata": {},
   "outputs": [
    {
     "name": "stdout",
     "output_type": "stream",
     "text": [
      "observed mean: 171.88678373771444\n",
      "observed std: 8.818677842775166\n",
      "n: 100\n"
     ]
    }
   ],
   "source": [
    "xbar = sample.Height.mean()\n",
    "s = sample.Height.std()\n",
    "print(\"observed mean:\",xbar)\n",
    "print(\"observed std:\", s)\n",
    "print(\"n:\", n)"
   ]
  },
  {
   "cell_type": "code",
   "execution_count": 10,
   "metadata": {},
   "outputs": [
    {
     "name": "stdout",
     "output_type": "stream",
     "text": [
      "Z-score: -0.12838235425315578\n",
      "p-value: 0.8978463948598004\n"
     ]
    }
   ],
   "source": [
    "#now, lets test the hypothesis\n",
    "z = (xbar-172)/(s/(n**0.5))\n",
    "print(\"Z-score:\",z)\n",
    "\n",
    "p_value = st.norm.cdf(z)*2\n",
    "print(\"p-value:\",p_value)"
   ]
  },
  {
   "cell_type": "code",
   "execution_count": 11,
   "metadata": {},
   "outputs": [
    {
     "name": "stdout",
     "output_type": "stream",
     "text": [
      "Null hypothesis is plausible\n"
     ]
    }
   ],
   "source": [
    "#significance level as 0.05\n",
    "if(p_value <= 0.05):\n",
    "    print(\"Null hypothesis is rejected\")\n",
    "else:\n",
    "    print(\"Null hypothesis is plausible\")"
   ]
  },
  {
   "cell_type": "code",
   "execution_count": 12,
   "metadata": {},
   "outputs": [],
   "source": [
    "#so, from the result of Hypothesis test, we can conclude that,\n",
    "#our friend's assumption is plausible, ie Indian olympic players are very likely (plausible) to have average height of 172 cm"
   ]
  },
  {
   "cell_type": "markdown",
   "metadata": {},
   "source": [
    "Co-relation between values"
   ]
  },
  {
   "cell_type": "code",
   "execution_count": 44,
   "metadata": {},
   "outputs": [
    {
     "data": {
      "text/html": [
       "<div>\n",
       "<style scoped>\n",
       "    .dataframe tbody tr th:only-of-type {\n",
       "        vertical-align: middle;\n",
       "    }\n",
       "\n",
       "    .dataframe tbody tr th {\n",
       "        vertical-align: top;\n",
       "    }\n",
       "\n",
       "    .dataframe thead th {\n",
       "        text-align: right;\n",
       "    }\n",
       "</style>\n",
       "<table border=\"1\" class=\"dataframe\">\n",
       "  <thead>\n",
       "    <tr style=\"text-align: right;\">\n",
       "      <th></th>\n",
       "      <th>ID</th>\n",
       "      <th>Sex</th>\n",
       "      <th>Age</th>\n",
       "      <th>Height</th>\n",
       "      <th>Weight</th>\n",
       "      <th>Team</th>\n",
       "      <th>NOC</th>\n",
       "      <th>Games</th>\n",
       "      <th>Year</th>\n",
       "      <th>Season</th>\n",
       "      <th>City</th>\n",
       "      <th>Sport</th>\n",
       "      <th>Event</th>\n",
       "      <th>Medal</th>\n",
       "    </tr>\n",
       "  </thead>\n",
       "  <tbody>\n",
       "    <tr>\n",
       "      <th>0</th>\n",
       "      <td>5</td>\n",
       "      <td>F</td>\n",
       "      <td>-0.801784</td>\n",
       "      <td>0.860775</td>\n",
       "      <td>0.742504</td>\n",
       "      <td>Netherlands</td>\n",
       "      <td>NED</td>\n",
       "      <td>1988 Winter</td>\n",
       "      <td>1988</td>\n",
       "      <td>Winter</td>\n",
       "      <td>Calgary</td>\n",
       "      <td>Speed Skating</td>\n",
       "      <td>Speed Skating Women's 500 metres</td>\n",
       "      <td>none</td>\n",
       "    </tr>\n",
       "    <tr>\n",
       "      <th>1</th>\n",
       "      <td>5</td>\n",
       "      <td>F</td>\n",
       "      <td>-0.801784</td>\n",
       "      <td>0.860775</td>\n",
       "      <td>0.742504</td>\n",
       "      <td>Netherlands</td>\n",
       "      <td>NED</td>\n",
       "      <td>1988 Winter</td>\n",
       "      <td>1988</td>\n",
       "      <td>Winter</td>\n",
       "      <td>Calgary</td>\n",
       "      <td>Speed Skating</td>\n",
       "      <td>Speed Skating Women's 1,000 metres</td>\n",
       "      <td>none</td>\n",
       "    </tr>\n",
       "    <tr>\n",
       "      <th>2</th>\n",
       "      <td>29</td>\n",
       "      <td>F</td>\n",
       "      <td>-0.616261</td>\n",
       "      <td>0.004915</td>\n",
       "      <td>-0.012221</td>\n",
       "      <td>Netherlands</td>\n",
       "      <td>NED</td>\n",
       "      <td>1988 Summer</td>\n",
       "      <td>1988</td>\n",
       "      <td>Summer</td>\n",
       "      <td>Seoul</td>\n",
       "      <td>Hockey</td>\n",
       "      <td>Hockey Women's Hockey</td>\n",
       "      <td>Bronze</td>\n",
       "    </tr>\n",
       "    <tr>\n",
       "      <th>3</th>\n",
       "      <td>57</td>\n",
       "      <td>M</td>\n",
       "      <td>-0.245216</td>\n",
       "      <td>0.023594</td>\n",
       "      <td>-0.335984</td>\n",
       "      <td>Bulgaria</td>\n",
       "      <td>BUL</td>\n",
       "      <td>1988 Summer</td>\n",
       "      <td>1988</td>\n",
       "      <td>Summer</td>\n",
       "      <td>Seoul</td>\n",
       "      <td>Boxing</td>\n",
       "      <td>Boxing Men's Light-Welterweight</td>\n",
       "      <td>none</td>\n",
       "    </tr>\n",
       "    <tr>\n",
       "      <th>4</th>\n",
       "      <td>106</td>\n",
       "      <td>M</td>\n",
       "      <td>-0.616261</td>\n",
       "      <td>1.139836</td>\n",
       "      <td>1.686181</td>\n",
       "      <td>Italy</td>\n",
       "      <td>ITA</td>\n",
       "      <td>1988 Summer</td>\n",
       "      <td>1988</td>\n",
       "      <td>Summer</td>\n",
       "      <td>Seoul</td>\n",
       "      <td>Rowing</td>\n",
       "      <td>Rowing Men's Quadruple Sculls</td>\n",
       "      <td>Gold</td>\n",
       "    </tr>\n",
       "  </tbody>\n",
       "</table>\n",
       "</div>"
      ],
      "text/plain": [
       "    ID Sex       Age    Height    Weight         Team  NOC        Games  Year  \\\n",
       "0    5   F -0.801784  0.860775  0.742504  Netherlands  NED  1988 Winter  1988   \n",
       "1    5   F -0.801784  0.860775  0.742504  Netherlands  NED  1988 Winter  1988   \n",
       "2   29   F -0.616261  0.004915 -0.012221  Netherlands  NED  1988 Summer  1988   \n",
       "3   57   M -0.245216  0.023594 -0.335984     Bulgaria  BUL  1988 Summer  1988   \n",
       "4  106   M -0.616261  1.139836  1.686181        Italy  ITA  1988 Summer  1988   \n",
       "\n",
       "   Season     City          Sport                               Event   Medal  \n",
       "0  Winter  Calgary  Speed Skating    Speed Skating Women's 500 metres    none  \n",
       "1  Winter  Calgary  Speed Skating  Speed Skating Women's 1,000 metres    none  \n",
       "2  Summer    Seoul         Hockey               Hockey Women's Hockey  Bronze  \n",
       "3  Summer    Seoul         Boxing     Boxing Men's Light-Welterweight    none  \n",
       "4  Summer    Seoul         Rowing       Rowing Men's Quadruple Sculls    Gold  "
      ]
     },
     "execution_count": 44,
     "metadata": {},
     "output_type": "execute_result"
    }
   ],
   "source": [
    "df = pd.read_csv(\"./csvs/normalized-data.csv\")\n",
    "df.head()"
   ]
  },
  {
   "cell_type": "code",
   "execution_count": 58,
   "metadata": {},
   "outputs": [
    {
     "data": {
      "text/html": [
       "<div>\n",
       "<style scoped>\n",
       "    .dataframe tbody tr th:only-of-type {\n",
       "        vertical-align: middle;\n",
       "    }\n",
       "\n",
       "    .dataframe tbody tr th {\n",
       "        vertical-align: top;\n",
       "    }\n",
       "\n",
       "    .dataframe thead th {\n",
       "        text-align: right;\n",
       "    }\n",
       "</style>\n",
       "<table border=\"1\" class=\"dataframe\">\n",
       "  <thead>\n",
       "    <tr style=\"text-align: right;\">\n",
       "      <th></th>\n",
       "      <th>Age</th>\n",
       "      <th>Height</th>\n",
       "      <th>Weight</th>\n",
       "      <th>Year</th>\n",
       "    </tr>\n",
       "  </thead>\n",
       "  <tbody>\n",
       "    <tr>\n",
       "      <th>Age</th>\n",
       "      <td>1.000000</td>\n",
       "      <td>0.146260</td>\n",
       "      <td>0.199161</td>\n",
       "      <td>0.128848</td>\n",
       "    </tr>\n",
       "    <tr>\n",
       "      <th>Height</th>\n",
       "      <td>0.146260</td>\n",
       "      <td>1.000000</td>\n",
       "      <td>0.794588</td>\n",
       "      <td>0.005511</td>\n",
       "    </tr>\n",
       "    <tr>\n",
       "      <th>Weight</th>\n",
       "      <td>0.199161</td>\n",
       "      <td>0.794588</td>\n",
       "      <td>1.000000</td>\n",
       "      <td>0.005891</td>\n",
       "    </tr>\n",
       "    <tr>\n",
       "      <th>Year</th>\n",
       "      <td>0.128848</td>\n",
       "      <td>0.005511</td>\n",
       "      <td>0.005891</td>\n",
       "      <td>1.000000</td>\n",
       "    </tr>\n",
       "  </tbody>\n",
       "</table>\n",
       "</div>"
      ],
      "text/plain": [
       "             Age    Height    Weight      Year\n",
       "Age     1.000000  0.146260  0.199161  0.128848\n",
       "Height  0.146260  1.000000  0.794588  0.005511\n",
       "Weight  0.199161  0.794588  1.000000  0.005891\n",
       "Year    0.128848  0.005511  0.005891  1.000000"
      ]
     },
     "execution_count": 58,
     "metadata": {},
     "output_type": "execute_result"
    }
   ],
   "source": [
    "df.drop(\"ID\", axis=1).corr() #ID is dropped, because ID isn't really meaningfull in comparisions"
   ]
  },
  {
   "cell_type": "code",
   "execution_count": 45,
   "metadata": {},
   "outputs": [
    {
     "data": {
      "image/png": "[encoded data removed]",
      "text/plain": [
       "<Figure size 432x288 with 1 Axes>"
      ]
     },
     "metadata": {
      "needs_background": "light"
     },
     "output_type": "display_data"
    }
   ],
   "source": [
    "#lets see the relation between heights and weights of olympic players\n",
    "plt.scatter(df.Height, df.Weight)\n",
    "plt.title(\"Height vs Weight (all)\")\n",
    "plt.xlabel(\"Height\")\n",
    "plt.ylabel(\"Weight\")\n",
    "plt.show()\n",
    "#though the plot is spread, we can see that with height, weight is increasing"
   ]
  },
  {
   "cell_type": "code",
   "execution_count": 47,
   "metadata": {},
   "outputs": [
    {
     "data": {
      "image/png": "[encoded data removed]",
      "text/plain": [
       "<Figure size 432x288 with 1 Axes>"
      ]
     },
     "metadata": {
      "needs_background": "light"
     },
     "output_type": "display_data"
    }
   ],
   "source": [
    "#relation between age and height of players\n",
    "plt.scatter(df.Age, df.Height)\n",
    "plt.title(\"Age vs Height (all)\")\n",
    "plt.xlabel(\"Age\")\n",
    "plt.ylabel(\"Height\")\n",
    "plt.show()\n",
    "#we can notice that there isnt any kind of relation, but can say that range of height is getting less, with increasing Age"
   ]
  },
  {
   "cell_type": "code",
   "execution_count": 48,
   "metadata": {},
   "outputs": [
    {
     "data": {
      "image/png": "[encoded data removed]",
      "text/plain": [
       "<Figure size 432x288 with 1 Axes>"
      ]
     },
     "metadata": {
      "needs_background": "light"
     },
     "output_type": "display_data"
    }
   ],
   "source": [
    "#relation between age and Weight of players\n",
    "plt.scatter(df.Age, df.Weight)\n",
    "plt.title(\"Age vs Weight (all)\")\n",
    "plt.xlabel(\"Age\")\n",
    "plt.ylabel(\"Weight\")\n",
    "plt.show()\n",
    "#we can notice that there isnt any kind of relation, but range is getting low over the age"
   ]
  },
  {
   "cell_type": "code",
   "execution_count": 49,
   "metadata": {},
   "outputs": [
    {
     "data": {
      "image/png": "[encoded data removed]",
      "text/plain": [
       "<Figure size 432x288 with 1 Axes>"
      ]
     },
     "metadata": {
      "needs_background": "light"
     },
     "output_type": "display_data"
    }
   ],
   "source": [
    "#this actually gives the range of heights in a particular year\n",
    "plt.scatter(df.Year, df.Height)\n",
    "plt.title(\"Year vs Height (all)\")\n",
    "plt.xlabel(\"Year\")\n",
    "plt.ylabel(\"Height\")\n",
    "plt.show()"
   ]
  },
  {
   "cell_type": "code",
   "execution_count": 50,
   "metadata": {},
   "outputs": [
    {
     "data": {
      "image/png": "[encoded data removed]",
      "text/plain": [
       "<Figure size 432x288 with 1 Axes>"
      ]
     },
     "metadata": {
      "needs_background": "light"
     },
     "output_type": "display_data"
    }
   ],
   "source": [
    "#lets see the Height and Weight relation of Gold-medalists\n",
    "dftemp = df.loc[df[\"Medal\"]==\"Gold\"].copy()\n",
    "plt.scatter(dftemp.Height, dftemp.Weight)\n",
    "plt.title(\"Height vs Weight (Gold medalists)\")\n",
    "plt.xlabel(\"Height\")\n",
    "plt.ylabel(\"Weight\")\n",
    "plt.show()"
   ]
  },
  {
   "cell_type": "code",
   "execution_count": 53,
   "metadata": {},
   "outputs": [
    {
     "data": {
      "image/png": "[encoded data removed]",
      "text/plain": [
       "<Figure size 432x288 with 1 Axes>"
      ]
     },
     "metadata": {
      "needs_background": "light"
     },
     "output_type": "display_data"
    },
    {
     "data": {
      "image/png": "[encoded data removed]",
      "text/plain": [
       "<Figure size 432x288 with 1 Axes>"
      ]
     },
     "metadata": {
      "needs_background": "light"
     },
     "output_type": "display_data"
    }
   ],
   "source": [
    "#Age vs Weight plot of female olympic players\n",
    "dftemp = df.loc[df[\"Sex\"]=='F'].copy()\n",
    "plt.scatter(dftemp.Age, dftemp.Weight)\n",
    "plt.title(\"Age vs Weight (Felmale)\")\n",
    "plt.xlabel(\"Age\")\n",
    "plt.ylabel(\"Weight\")\n",
    "plt.show()\n",
    "\n",
    "#Age vs Weight plot of male olympic players\n",
    "dftemp = df.loc[df[\"Sex\"]=='M'].copy()\n",
    "plt.scatter(dftemp.Age, dftemp.Weight)\n",
    "plt.title(\"Age vs Weight (Male)\")\n",
    "plt.xlabel(\"Age\")\n",
    "plt.ylabel(\"Weight\")\n",
    "plt.show()\n",
    "\n",
    "#so, both male and female distribution are similar to overall distribution"
   ]
  },
  {
   "cell_type": "code",
   "execution_count": null,
   "metadata": {},
   "outputs": [],
   "source": [
    "#the end"
   ]
  }
 ],
 "metadata": {
  "kernelspec": {
   "display_name": "Python 3",
   "language": "python",
   "name": "python3"
  },
  "language_info": {
   "codemirror_mode": {
    "name": "ipython",
    "version": 3
   },
   "file_extension": ".py",
   "mimetype": "text/x-python",
   "name": "python",
   "nbconvert_exporter": "python",
   "pygments_lexer": "ipython3",
   "version": "3.7.3"
  }
 },
 "nbformat": 4,
 "nbformat_minor": 4
}
